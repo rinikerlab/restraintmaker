{
 "cells": [
  {
   "cell_type": "markdown",
   "source": [
    "# Generate the systems for multistates\n"
   ],
   "metadata": {
    "collapsed": false,
    "pycharm": {
     "name": "#%% md\n"
    }
   }
  },
  {
   "cell_type": "code",
   "execution_count": 1,
   "outputs": [
    {
     "name": "stderr",
     "output_type": "stream",
     "text": [
      "/home/bschroed/Documents/code/restraintmaker/restraintmaker/submodules/pygromos/pygromos/files/topology/top.py:20: UserWarning: Module topo-files is under Development and not entirely implemented!\n",
      "  warnings.warn(\"Module topo-files is under Development and not entirely implemented!\")\n"
     ]
    }
   ],
   "source": [
    "#IMPORT\n",
    "import os, sys, glob\n",
    "import time\n",
    "\n",
    "from pygromos.gromos.gromosPP import GromosPP\n",
    "from pygromos.gromos.gromosXX import GromosXX\n",
    "\n",
    "from pygromos.files.coord import cnf\n",
    "from pygromos.files import imd\n",
    "from pygromos.files.blocks import imd_blocks\n",
    "\n",
    "from pygromos.data import imd_templates\n",
    "from pygromos.data import solvents\n",
    "\n",
    "import restraintmaker\n",
    "\n",
    "#CHANGE HERE\n",
    "gromosPP_bin_path = \"/home/bschroed/Documents/code/gromosPP/installed/bin\"\n",
    "gromosXX_bin_path =\"/home/bschroed/Documents/code/gromos_2019_EDSemin/installed/bin\"\n",
    "restraintmaker_path = os.path.abspath(os.path.dirname(restraintmaker.__file__)+\"/..\")\n",
    "\n"
   ],
   "metadata": {
    "collapsed": false,
    "pycharm": {
     "name": "#%%\n"
    }
   }
  },
  {
   "cell_type": "markdown",
   "source": [
    "## Path definitions\n",
    "generate the subfolders for the systems - no changes required here."
   ],
   "metadata": {
    "collapsed": false,
    "pycharm": {
     "name": "#%% md\n"
    }
   }
  },
  {
   "cell_type": "code",
   "execution_count": 2,
   "outputs": [
    {
     "name": "stdout",
     "output_type": "stream",
     "text": [
      "\n",
      "GROMOSPATH /home/bschroed/Documents/code/gromos_2019_EDSemin/installed/bin/\n"
     ]
    }
   ],
   "source": [
    "sets_dir = restraintmaker_path+\"/devtools/otherScripts/b_ATB_solvationFreeEnergies/sets\"\n",
    "resn_lib_path = sets_dir+\"/resn_lib.lib\"\n",
    "mstate_dir = sets_dir+\"/multistate\"\n",
    "\n",
    "\n",
    "atb_dirs = restraintmaker_path+\"/devtools/otherScripts/b_ATB_solvationFreeEnergies/ATB_molecules\"\n",
    "sys.path.append(atb_dirs+\"/..\")\n",
    "\n",
    "import utils_test_set_ATB as utils\n",
    "\n",
    "if(not os.path.exists(mstate_dir)):\n",
    "    os.mkdir(mstate_dir)\n",
    "\n",
    "##get all_single file_tops:\n",
    "all_tops = glob.glob(atb_dirs+\"/*/*top\")\n",
    "state_all_tops={os.path.basename(value).split(\".\")[0]: value for value in all_tops}\n",
    "all_mstate_sys = list(filter(os.path.isdir, glob.glob(mstate_dir+\"/*\")))\n",
    "\n",
    "emin_imd = imd_templates.template_emin\n",
    "gromXX = GromosXX(gromosXX_bin_path)\n",
    "gromPP = GromosPP(gromosPP_bin_path)\n"
   ],
   "metadata": {
    "collapsed": false,
    "pycharm": {
     "name": "#%%\n"
    }
   }
  },
  {
   "cell_type": "markdown",
   "source": [
    "label\n",
    "## Build gromos files"
   ],
   "metadata": {
    "collapsed": false,
    "pycharm": {
     "name": "#%% md\n"
    }
   }
  },
  {
   "cell_type": "code",
   "execution_count": 4,
   "outputs": [
    {
     "name": "stdout",
     "output_type": "stream",
     "text": [
      "system name\t states\n",
      "all ['_O6T', '_O71', 'G277', 'S002', '8018', 'M030', '6KET', 'F313', '_P8I', 'M097', 'G078', 'M218', '6J29', 'G209', 'E1VB', 'TVVS', '_O70']\n",
      "['/home/bschroed/Documents/code/restraintmaker/devtools/otherScripts/b_ATB_solvationFreeEnergies/sets/multistate/flat_10', '/home/bschroed/Documents/code/restraintmaker/devtools/otherScripts/b_ATB_solvationFreeEnergies/sets/multistate/challenging_5', '/home/bschroed/Documents/code/restraintmaker/devtools/otherScripts/b_ATB_solvationFreeEnergies/sets/multistate/singles_10', '/home/bschroed/Documents/code/restraintmaker/devtools/otherScripts/b_ATB_solvationFreeEnergies/sets/multistate/all_17', '/home/bschroed/Documents/code/restraintmaker/devtools/otherScripts/b_ATB_solvationFreeEnergies/sets/multistate/easy_6']\n",
      "gromosPP.frameout: command:\n",
      "/home/bschroed/Documents/code/gromosPP/installed/bin/frameout @topo /home/bschroed/Documents/code/restraintmaker/devtools/otherScripts/b_ATB_solvationFreeEnergies/sets/multistate/all_17/all_17.top @traj /home/bschroed/Documents/code/restraintmaker/devtools/otherScripts/b_ATB_solvationFreeEnergies/sets/multistate/all_17/all_17.cnf @pbc v  @outformat pdb @include SOLUTE @time 0 \n",
      "STDOUT:  \n",
      "/home/bschroed/Documents/code/gromosPP/installed/bin/sim_box @topo /home/bschroed/Documents/code/restraintmaker/devtools/otherScripts/b_ATB_solvationFreeEnergies/sets/multistate/all_17/all_17.top @pos /home/bschroed/Documents/code/restraintmaker/devtools/otherScripts/b_ATB_solvationFreeEnergies/sets/multistate/all_17/all_17.cnf @solvent /home/bschroed/Documents/code/restraintmaker/restraintmaker/submodules/pygromos/pygromos/data/solvents/spc.cnf  @boxsize  > /home/bschroed/Documents/code/restraintmaker/devtools/otherScripts/b_ATB_solvationFreeEnergies/sets/multistate/all_17/all_17_spc.cnf \n",
      "\n",
      "{'_O6T': {1: 14}, '_O71': {2: 16}, 'G277': {3: 12}, 'S002': {4: 13}, '8018': {5: 18}, 'M030': {6: 12}, '6KET': {7: 14}, 'F313': {8: 15}, '_P8I': {9: 6}, 'M097': {10: 14}, 'G078': {11: 18}, 'M218': {12: 14}, '6J29': {13: 27}, 'G209': {14: 6}, 'E1VB': {15: 19}, 'TVVS': {16: 13}, '_O70': {17: 13}, 'SOLV': 4497}\n",
      "[14, 16, 12, 13, 18, 12, 14, 15, 6, 14, 18, 14, 27, 6, 19, 13, 13, 4497]\n",
      "/home/bschroed/Documents/code/gromos_2019_EDSemin/installed/bin/md @topo /home/bschroed/Documents/code/restraintmaker/devtools/otherScripts/b_ATB_solvationFreeEnergies/sets/multistate/all_17/all_17.top @conf /home/bschroed/Documents/code/restraintmaker/devtools/otherScripts/b_ATB_solvationFreeEnergies/sets/multistate/all_17/all_17_spc.cnf @input /home/bschroed/Documents/code/restraintmaker/devtools/otherScripts/b_ATB_solvationFreeEnergies/sets/multistate/all_17/solv_emin/all_17_emin.imd @pttopo /home/bschroed/Documents/code/restraintmaker/devtools/otherScripts/b_ATB_solvationFreeEnergies/sets/multistate/all_17/all_17.ptp @posresspec /home/bschroed/Documents/code/restraintmaker/devtools/otherScripts/b_ATB_solvationFreeEnergies/sets/multistate/all_17/solv_emin/all_17_emin.por @refpos /home/bschroed/Documents/code/restraintmaker/devtools/otherScripts/b_ATB_solvationFreeEnergies/sets/multistate/all_17/solv_emin/all_17_emin.rpf @fin /home/bschroed/Documents/code/restraintmaker/devtools/otherScripts/b_ATB_solvationFreeEnergies/sets/multistate/all_17/solv_emin/all_17_emin.cnf @trc /home/bschroed/Documents/code/restraintmaker/devtools/otherScripts/b_ATB_solvationFreeEnergies/sets/multistate/all_17/solv_emin/all_17_emin.trc @tre /home/bschroed/Documents/code/restraintmaker/devtools/otherScripts/b_ATB_solvationFreeEnergies/sets/multistate/all_17/solv_emin/all_17_emin.tre > /home/bschroed/Documents/code/restraintmaker/devtools/otherScripts/b_ATB_solvationFreeEnergies/sets/multistate/all_17/solv_emin/all_17_emin.omd\n",
      "\n",
      "challenging ['_O6T', '6J29', 'G078', 'G209', '8018']\n",
      "['/home/bschroed/Documents/code/restraintmaker/devtools/otherScripts/b_ATB_solvationFreeEnergies/sets/multistate/flat_10', '/home/bschroed/Documents/code/restraintmaker/devtools/otherScripts/b_ATB_solvationFreeEnergies/sets/multistate/challenging_5', '/home/bschroed/Documents/code/restraintmaker/devtools/otherScripts/b_ATB_solvationFreeEnergies/sets/multistate/singles_10', '/home/bschroed/Documents/code/restraintmaker/devtools/otherScripts/b_ATB_solvationFreeEnergies/sets/multistate/all_17', '/home/bschroed/Documents/code/restraintmaker/devtools/otherScripts/b_ATB_solvationFreeEnergies/sets/multistate/easy_6']\n",
      "gromosPP.frameout: command:\n",
      "/home/bschroed/Documents/code/gromosPP/installed/bin/frameout @topo /home/bschroed/Documents/code/restraintmaker/devtools/otherScripts/b_ATB_solvationFreeEnergies/sets/multistate/challenging_5/challenging_5.top @traj /home/bschroed/Documents/code/restraintmaker/devtools/otherScripts/b_ATB_solvationFreeEnergies/sets/multistate/challenging_5/challenging_5.cnf @pbc v  @outformat pdb @include SOLUTE @time 0 \n",
      "STDOUT:  \n",
      "/home/bschroed/Documents/code/gromosPP/installed/bin/sim_box @topo /home/bschroed/Documents/code/restraintmaker/devtools/otherScripts/b_ATB_solvationFreeEnergies/sets/multistate/challenging_5/challenging_5.top @pos /home/bschroed/Documents/code/restraintmaker/devtools/otherScripts/b_ATB_solvationFreeEnergies/sets/multistate/challenging_5/challenging_5.cnf @solvent /home/bschroed/Documents/code/restraintmaker/restraintmaker/submodules/pygromos/pygromos/data/solvents/spc.cnf  @boxsize  > /home/bschroed/Documents/code/restraintmaker/devtools/otherScripts/b_ATB_solvationFreeEnergies/sets/multistate/challenging_5/challenging_5_spc.cnf \n",
      "\n",
      "{'_O6T': {1: 14}, '6J29': {2: 27}, 'G078': {3: 18}, 'G209': {4: 6}, '8018': {5: 18}, 'SOLV': 4521}\n",
      "[14, 27, 18, 6, 18, 4521]\n",
      "/home/bschroed/Documents/code/gromos_2019_EDSemin/installed/bin/md @topo /home/bschroed/Documents/code/restraintmaker/devtools/otherScripts/b_ATB_solvationFreeEnergies/sets/multistate/challenging_5/challenging_5.top @conf /home/bschroed/Documents/code/restraintmaker/devtools/otherScripts/b_ATB_solvationFreeEnergies/sets/multistate/challenging_5/challenging_5_spc.cnf @input /home/bschroed/Documents/code/restraintmaker/devtools/otherScripts/b_ATB_solvationFreeEnergies/sets/multistate/challenging_5/solv_emin/challenging_5_emin.imd @pttopo /home/bschroed/Documents/code/restraintmaker/devtools/otherScripts/b_ATB_solvationFreeEnergies/sets/multistate/challenging_5/challenging_5.ptp @posresspec /home/bschroed/Documents/code/restraintmaker/devtools/otherScripts/b_ATB_solvationFreeEnergies/sets/multistate/challenging_5/solv_emin/challenging_5_emin.por @refpos /home/bschroed/Documents/code/restraintmaker/devtools/otherScripts/b_ATB_solvationFreeEnergies/sets/multistate/challenging_5/solv_emin/challenging_5_emin.rpf @fin /home/bschroed/Documents/code/restraintmaker/devtools/otherScripts/b_ATB_solvationFreeEnergies/sets/multistate/challenging_5/solv_emin/challenging_5_emin.cnf @trc /home/bschroed/Documents/code/restraintmaker/devtools/otherScripts/b_ATB_solvationFreeEnergies/sets/multistate/challenging_5/solv_emin/challenging_5_emin.trc @tre /home/bschroed/Documents/code/restraintmaker/devtools/otherScripts/b_ATB_solvationFreeEnergies/sets/multistate/challenging_5/solv_emin/challenging_5_emin.tre > /home/bschroed/Documents/code/restraintmaker/devtools/otherScripts/b_ATB_solvationFreeEnergies/sets/multistate/challenging_5/solv_emin/challenging_5_emin.omd\n",
      "\n",
      "singles ['_O6T', '_O71', 'G277', 'S002', 'M030', '6KET', 'F313', 'M097', 'M218', 'TVVS']\n",
      "['/home/bschroed/Documents/code/restraintmaker/devtools/otherScripts/b_ATB_solvationFreeEnergies/sets/multistate/flat_10', '/home/bschroed/Documents/code/restraintmaker/devtools/otherScripts/b_ATB_solvationFreeEnergies/sets/multistate/challenging_5', '/home/bschroed/Documents/code/restraintmaker/devtools/otherScripts/b_ATB_solvationFreeEnergies/sets/multistate/singles_10', '/home/bschroed/Documents/code/restraintmaker/devtools/otherScripts/b_ATB_solvationFreeEnergies/sets/multistate/all_17', '/home/bschroed/Documents/code/restraintmaker/devtools/otherScripts/b_ATB_solvationFreeEnergies/sets/multistate/easy_6']\n",
      "gromosPP.frameout: command:\n",
      "/home/bschroed/Documents/code/gromosPP/installed/bin/frameout @topo /home/bschroed/Documents/code/restraintmaker/devtools/otherScripts/b_ATB_solvationFreeEnergies/sets/multistate/singles_10/singles_10.top @traj /home/bschroed/Documents/code/restraintmaker/devtools/otherScripts/b_ATB_solvationFreeEnergies/sets/multistate/singles_10/singles_10.cnf @pbc v  @outformat pdb @include SOLUTE @time 0 \n",
      "STDOUT:  \n",
      "/home/bschroed/Documents/code/gromosPP/installed/bin/sim_box @topo /home/bschroed/Documents/code/restraintmaker/devtools/otherScripts/b_ATB_solvationFreeEnergies/sets/multistate/singles_10/singles_10.top @pos /home/bschroed/Documents/code/restraintmaker/devtools/otherScripts/b_ATB_solvationFreeEnergies/sets/multistate/singles_10/singles_10.cnf @solvent /home/bschroed/Documents/code/restraintmaker/restraintmaker/submodules/pygromos/pygromos/data/solvents/spc.cnf  @boxsize  > /home/bschroed/Documents/code/restraintmaker/devtools/otherScripts/b_ATB_solvationFreeEnergies/sets/multistate/singles_10/singles_10_spc.cnf \n",
      "\n",
      "{'_O6T': {1: 14}, '_O71': {2: 16}, 'G277': {3: 12}, 'S002': {4: 13}, 'M030': {5: 12}, '6KET': {6: 14}, 'F313': {7: 15}, 'M097': {8: 14}, 'M218': {9: 14}, 'TVVS': {10: 13}, 'SOLV': 4542}\n",
      "[14, 16, 12, 13, 12, 14, 15, 14, 14, 13, 4542]\n",
      "/home/bschroed/Documents/code/gromos_2019_EDSemin/installed/bin/md @topo /home/bschroed/Documents/code/restraintmaker/devtools/otherScripts/b_ATB_solvationFreeEnergies/sets/multistate/singles_10/singles_10.top @conf /home/bschroed/Documents/code/restraintmaker/devtools/otherScripts/b_ATB_solvationFreeEnergies/sets/multistate/singles_10/singles_10_spc.cnf @input /home/bschroed/Documents/code/restraintmaker/devtools/otherScripts/b_ATB_solvationFreeEnergies/sets/multistate/singles_10/solv_emin/singles_10_emin.imd @pttopo /home/bschroed/Documents/code/restraintmaker/devtools/otherScripts/b_ATB_solvationFreeEnergies/sets/multistate/singles_10/singles_10.ptp @posresspec /home/bschroed/Documents/code/restraintmaker/devtools/otherScripts/b_ATB_solvationFreeEnergies/sets/multistate/singles_10/solv_emin/singles_10_emin.por @refpos /home/bschroed/Documents/code/restraintmaker/devtools/otherScripts/b_ATB_solvationFreeEnergies/sets/multistate/singles_10/solv_emin/singles_10_emin.rpf @fin /home/bschroed/Documents/code/restraintmaker/devtools/otherScripts/b_ATB_solvationFreeEnergies/sets/multistate/singles_10/solv_emin/singles_10_emin.cnf @trc /home/bschroed/Documents/code/restraintmaker/devtools/otherScripts/b_ATB_solvationFreeEnergies/sets/multistate/singles_10/solv_emin/singles_10_emin.trc @tre /home/bschroed/Documents/code/restraintmaker/devtools/otherScripts/b_ATB_solvationFreeEnergies/sets/multistate/singles_10/solv_emin/singles_10_emin.tre > /home/bschroed/Documents/code/restraintmaker/devtools/otherScripts/b_ATB_solvationFreeEnergies/sets/multistate/singles_10/solv_emin/singles_10_emin.omd\n",
      "\n",
      "flat ['_O6T', '_O71', 'S002', 'M030', '6KET', 'F313', 'M097', 'G078', 'M218', 'TVVS']\n",
      "['/home/bschroed/Documents/code/restraintmaker/devtools/otherScripts/b_ATB_solvationFreeEnergies/sets/multistate/flat_10', '/home/bschroed/Documents/code/restraintmaker/devtools/otherScripts/b_ATB_solvationFreeEnergies/sets/multistate/challenging_5', '/home/bschroed/Documents/code/restraintmaker/devtools/otherScripts/b_ATB_solvationFreeEnergies/sets/multistate/singles_10', '/home/bschroed/Documents/code/restraintmaker/devtools/otherScripts/b_ATB_solvationFreeEnergies/sets/multistate/all_17', '/home/bschroed/Documents/code/restraintmaker/devtools/otherScripts/b_ATB_solvationFreeEnergies/sets/multistate/easy_6']\n",
      "gromosPP.frameout: command:\n",
      "/home/bschroed/Documents/code/gromosPP/installed/bin/frameout @topo /home/bschroed/Documents/code/restraintmaker/devtools/otherScripts/b_ATB_solvationFreeEnergies/sets/multistate/flat_10/flat_10.top @traj /home/bschroed/Documents/code/restraintmaker/devtools/otherScripts/b_ATB_solvationFreeEnergies/sets/multistate/flat_10/flat_10.cnf @pbc v  @outformat pdb @include SOLUTE @time 0 \n",
      "STDOUT:  \n",
      "/home/bschroed/Documents/code/gromosPP/installed/bin/sim_box @topo /home/bschroed/Documents/code/restraintmaker/devtools/otherScripts/b_ATB_solvationFreeEnergies/sets/multistate/flat_10/flat_10.top @pos /home/bschroed/Documents/code/restraintmaker/devtools/otherScripts/b_ATB_solvationFreeEnergies/sets/multistate/flat_10/flat_10.cnf @solvent /home/bschroed/Documents/code/restraintmaker/restraintmaker/submodules/pygromos/pygromos/data/solvents/spc.cnf  @boxsize  > /home/bschroed/Documents/code/restraintmaker/devtools/otherScripts/b_ATB_solvationFreeEnergies/sets/multistate/flat_10/flat_10_spc.cnf \n",
      "\n",
      "{'_O6T': {1: 14}, '_O71': {2: 16}, 'S002': {3: 13}, 'M030': {4: 12}, '6KET': {5: 14}, 'F313': {6: 15}, 'M097': {7: 14}, 'G078': {8: 18}, 'M218': {9: 14}, 'TVVS': {10: 13}, 'SOLV': 4539}\n",
      "[14, 16, 13, 12, 14, 15, 14, 18, 14, 13, 4539]\n",
      "/home/bschroed/Documents/code/gromos_2019_EDSemin/installed/bin/md @topo /home/bschroed/Documents/code/restraintmaker/devtools/otherScripts/b_ATB_solvationFreeEnergies/sets/multistate/flat_10/flat_10.top @conf /home/bschroed/Documents/code/restraintmaker/devtools/otherScripts/b_ATB_solvationFreeEnergies/sets/multistate/flat_10/flat_10_spc.cnf @input /home/bschroed/Documents/code/restraintmaker/devtools/otherScripts/b_ATB_solvationFreeEnergies/sets/multistate/flat_10/solv_emin/flat_10_emin.imd @pttopo /home/bschroed/Documents/code/restraintmaker/devtools/otherScripts/b_ATB_solvationFreeEnergies/sets/multistate/flat_10/flat_10.ptp @posresspec /home/bschroed/Documents/code/restraintmaker/devtools/otherScripts/b_ATB_solvationFreeEnergies/sets/multistate/flat_10/solv_emin/flat_10_emin.por @refpos /home/bschroed/Documents/code/restraintmaker/devtools/otherScripts/b_ATB_solvationFreeEnergies/sets/multistate/flat_10/solv_emin/flat_10_emin.rpf @fin /home/bschroed/Documents/code/restraintmaker/devtools/otherScripts/b_ATB_solvationFreeEnergies/sets/multistate/flat_10/solv_emin/flat_10_emin.cnf @trc /home/bschroed/Documents/code/restraintmaker/devtools/otherScripts/b_ATB_solvationFreeEnergies/sets/multistate/flat_10/solv_emin/flat_10_emin.trc @tre /home/bschroed/Documents/code/restraintmaker/devtools/otherScripts/b_ATB_solvationFreeEnergies/sets/multistate/flat_10/solv_emin/flat_10_emin.tre > /home/bschroed/Documents/code/restraintmaker/devtools/otherScripts/b_ATB_solvationFreeEnergies/sets/multistate/flat_10/solv_emin/flat_10_emin.omd\n",
      "\n",
      "easy ['_O6T', 'G277', 'M030', 'M097', '6KET', 'F313']\n",
      "['/home/bschroed/Documents/code/restraintmaker/devtools/otherScripts/b_ATB_solvationFreeEnergies/sets/multistate/flat_10', '/home/bschroed/Documents/code/restraintmaker/devtools/otherScripts/b_ATB_solvationFreeEnergies/sets/multistate/challenging_5', '/home/bschroed/Documents/code/restraintmaker/devtools/otherScripts/b_ATB_solvationFreeEnergies/sets/multistate/singles_10', '/home/bschroed/Documents/code/restraintmaker/devtools/otherScripts/b_ATB_solvationFreeEnergies/sets/multistate/all_17', '/home/bschroed/Documents/code/restraintmaker/devtools/otherScripts/b_ATB_solvationFreeEnergies/sets/multistate/easy_6']\n",
      "gromosPP.frameout: command:\n",
      "/home/bschroed/Documents/code/gromosPP/installed/bin/frameout @topo /home/bschroed/Documents/code/restraintmaker/devtools/otherScripts/b_ATB_solvationFreeEnergies/sets/multistate/easy_6/easy_6.top @traj /home/bschroed/Documents/code/restraintmaker/devtools/otherScripts/b_ATB_solvationFreeEnergies/sets/multistate/easy_6/easy_6.cnf @pbc v  @outformat pdb @include SOLUTE @time 0 \n",
      "STDOUT:  \n",
      "/home/bschroed/Documents/code/gromosPP/installed/bin/sim_box @topo /home/bschroed/Documents/code/restraintmaker/devtools/otherScripts/b_ATB_solvationFreeEnergies/sets/multistate/easy_6/easy_6.top @pos /home/bschroed/Documents/code/restraintmaker/devtools/otherScripts/b_ATB_solvationFreeEnergies/sets/multistate/easy_6/easy_6.cnf @solvent /home/bschroed/Documents/code/restraintmaker/restraintmaker/submodules/pygromos/pygromos/data/solvents/spc.cnf  @boxsize  > /home/bschroed/Documents/code/restraintmaker/devtools/otherScripts/b_ATB_solvationFreeEnergies/sets/multistate/easy_6/easy_6_spc.cnf \n",
      "\n",
      "{'_O6T': {1: 14}, 'G277': {2: 12}, 'M030': {3: 12}, 'M097': {4: 14}, '6KET': {5: 14}, 'F313': {6: 15}, 'SOLV': 4551}\n",
      "[14, 12, 12, 14, 14, 15, 4551]\n",
      "/home/bschroed/Documents/code/gromos_2019_EDSemin/installed/bin/md @topo /home/bschroed/Documents/code/restraintmaker/devtools/otherScripts/b_ATB_solvationFreeEnergies/sets/multistate/easy_6/easy_6.top @conf /home/bschroed/Documents/code/restraintmaker/devtools/otherScripts/b_ATB_solvationFreeEnergies/sets/multistate/easy_6/easy_6_spc.cnf @input /home/bschroed/Documents/code/restraintmaker/devtools/otherScripts/b_ATB_solvationFreeEnergies/sets/multistate/easy_6/solv_emin/easy_6_emin.imd @pttopo /home/bschroed/Documents/code/restraintmaker/devtools/otherScripts/b_ATB_solvationFreeEnergies/sets/multistate/easy_6/easy_6.ptp @posresspec /home/bschroed/Documents/code/restraintmaker/devtools/otherScripts/b_ATB_solvationFreeEnergies/sets/multistate/easy_6/solv_emin/easy_6_emin.por @refpos /home/bschroed/Documents/code/restraintmaker/devtools/otherScripts/b_ATB_solvationFreeEnergies/sets/multistate/easy_6/solv_emin/easy_6_emin.rpf @fin /home/bschroed/Documents/code/restraintmaker/devtools/otherScripts/b_ATB_solvationFreeEnergies/sets/multistate/easy_6/solv_emin/easy_6_emin.cnf @trc /home/bschroed/Documents/code/restraintmaker/devtools/otherScripts/b_ATB_solvationFreeEnergies/sets/multistate/easy_6/solv_emin/easy_6_emin.trc @tre /home/bschroed/Documents/code/restraintmaker/devtools/otherScripts/b_ATB_solvationFreeEnergies/sets/multistate/easy_6/solv_emin/easy_6_emin.tre > /home/bschroed/Documents/code/restraintmaker/devtools/otherScripts/b_ATB_solvationFreeEnergies/sets/multistate/easy_6/solv_emin/easy_6_emin.omd\n",
      "\n"
     ]
    }
   ],
   "source": [
    "#Systems\n",
    "##multi_state different_sets\n",
    "print(\"system name\\t states\")\n",
    "for name,state_set in utils.multistate_ligand_sets.items():\n",
    "    print(name, state_set)\n",
    "    system_tops = [state_all_tops[x] for x in state_set]\n",
    "\n",
    "    #build eds system\n",
    "    print(all_mstate_sys)\n",
    "    out_dir = list(filter(lambda x: name+\"_\" in x, all_mstate_sys))[0]\n",
    "    out_prefix_path = out_dir+\"/\"+os.path.basename(out_dir)\n",
    "    out_top_path, out_ptp_path = gromPP.prep_eds(in_top_paths=system_tops, number_of_eds_states=len(system_tops), out_file_path=out_prefix_path)\n",
    "\n",
    "    #generate cnf\n",
    "    in_pdb = out_prefix_path+\".pdb\"\n",
    "    out_cnf_path = gromPP.pdb2gromos(in_pdb_path=in_pdb, in_top_path=out_top_path, in_lib_path=resn_lib_path,\n",
    "                                     out_cnf_path=out_prefix_path+\".cnf\", )\n",
    "    ##build box\n",
    "    from pygromos.files.blocks.coord_blocks import GENBOX, Pbc\n",
    "    box_cnf = cnf.Cnf(out_cnf_path)\n",
    "    box_cnf.supress_atomPosition_singulrarities()\n",
    "    box_cnf.GENBOX = GENBOX(pbc=Pbc.rectangular,\n",
    "                            length=[3.610220118 for x in range(3)],\n",
    "                            angles=[90 for x in range(3)],\n",
    "                            euler=[0 for x in range(3)],\n",
    "                            origin=[0 for x in range(3)])\n",
    "    box_cnf.write(out_cnf_path)\n",
    "\n",
    "    time.sleep(3)\n",
    "    gromPP.frameout(in_top_path=out_top_path, in_coord_path=out_cnf_path, periodic_boundary_condition=\"v\",\n",
    "                    out_file_path=out_prefix_path+\"_box.pdb\", out_file_format=\"pdb\", time=0, verbose=True)\n",
    "\n",
    "\n",
    "    # SOLVATE\n",
    "    out_solv_cnf_path=out_prefix_path+\"_spc.cnf\"\n",
    "    gromPP.sim_box(in_top_path=out_top_path, minwall=None, in_cnf_path=out_cnf_path, in_solvent_cnf_file_path=solvents.spc,\n",
    "                   out_cnf_path=out_solv_cnf_path, periodic_boundary_condition=None, gathering_method=None,  boxsize=True)\n",
    "    time.sleep(2)\n",
    "\n",
    "    gromPP.frameout(in_top_path=out_top_path, in_coord_path=out_solv_cnf_path, periodic_boundary_condition=\"r cog\",\n",
    "                    out_file_path=out_prefix_path+\"_solv.pdb\", include=\"all\", out_file_format=\"pdb\", time=0)\n",
    "\n",
    "\n",
    "    # Emin solv\n",
    "\n",
    "    emin_dir = out_dir+\"/solv_emin\"\n",
    "    emin_outprefix = emin_dir+\"/\"+os.path.basename(out_dir)+\"_emin\"\n",
    "\n",
    "    if(not os.path.exists(emin_dir)):\n",
    "        os.mkdir(emin_dir)\n",
    "\n",
    "    cnf_file = cnf.Cnf(out_solv_cnf_path)\n",
    "    residues = cnf_file.get_residues()\n",
    "    print(residues)\n",
    "    import numpy as np\n",
    "    t = list(map(lambda x: np.sum(list(x.values())) if(type(x) is dict) else x, residues.values()))\n",
    "    print(t)\n",
    "    all_atoms = np.sum(t)\n",
    "    del residues[\"SOLV\"]\n",
    "    all_lig_atoms =np.sum(list(map(lambda x: np.sum(list(x.values())), residues.values())))\n",
    "    in_por_path,_ = cnf_file.write_possrespec( out_path=emin_outprefix+\".por\", residues=list(residues.keys()))\n",
    "    in_rpf_path,_ = cnf_file.write_refpos(emin_outprefix+\".rpf\")\n",
    "\n",
    "    in_imd_path = emin_outprefix+\".imd\"\n",
    "    imd_file = imd.Imd(emin_imd)\n",
    "\n",
    "    imd_file.SYSTEM.NSM = (all_atoms - all_lig_atoms)//3\n",
    "\n",
    "    imd_file.EDS = imd_blocks.EDS(NUMSTATES=len(state_set),S=1, EIR=[0 for x in range(len(state_set))])\n",
    "\n",
    "    multibath_block = imd_blocks.MULTIBATH(ALGORITHM=1, NBATHS=2, TEMP0=[298,298],\n",
    "                                           TAU=[0.1,0.1], DOFSET=2,\n",
    "                                           LAST=[all_lig_atoms, all_atoms], COMBATH=[1,2], IRBATH=[1,2] )\n",
    "\n",
    "    #imd_file.add_block(multibath_block.name, multibath_block)\n",
    "    imd_file.MULTIBATH = multibath_block\n",
    "    imd_file.write(in_imd_path)\n",
    "\n",
    "    gromXX.md_run(in_topo_path=out_top_path, in_imd_path=in_imd_path, in_coord_path=out_solv_cnf_path,\n",
    "                  out_prefix=emin_outprefix, in_pert_topo_path=out_ptp_path,\n",
    "                  in_refpos_path=in_rpf_path, in_posresspec_path=in_por_path)\n"
   ],
   "metadata": {
    "collapsed": false,
    "pycharm": {
     "name": "#%%\n"
    }
   }
  }
 ],
 "metadata": {
  "kernelspec": {
   "display_name": "Python 3",
   "language": "python",
   "name": "python3"
  },
  "language_info": {
   "codemirror_mode": {
    "name": "ipython",
    "version": 2
   },
   "file_extension": ".py",
   "mimetype": "text/x-python",
   "name": "python",
   "nbconvert_exporter": "python",
   "pygments_lexer": "ipython2",
   "version": "2.7.6"
  }
 },
 "nbformat": 4,
 "nbformat_minor": 0
}